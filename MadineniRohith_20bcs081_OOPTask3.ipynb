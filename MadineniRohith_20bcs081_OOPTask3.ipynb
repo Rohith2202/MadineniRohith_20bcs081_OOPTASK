{
  "nbformat": 4,
  "nbformat_minor": 0,
  "metadata": {
    "colab": {
      "name": "MadineniRohith_20bcs081_OOPTask3",
      "provenance": [],
      "collapsed_sections": [],
      "authorship_tag": "ABX9TyOZsdlotDG1jI53xGQU+67J",
      "include_colab_link": true
    },
    "kernelspec": {
      "name": "python3",
      "display_name": "Python 3"
    },
    "language_info": {
      "name": "python"
    }
  },
  "cells": [
    {
      "cell_type": "markdown",
      "metadata": {
        "id": "view-in-github",
        "colab_type": "text"
      },
      "source": [
        "<a href=\"https://colab.research.google.com/github/Rohith2202/MadineniRohith_20bcs081_OOPTASK/blob/main/MadineniRohith_20bcs081_OOPTask3.ipynb\" target=\"_parent\"><img src=\"https://colab.research.google.com/assets/colab-badge.svg\" alt=\"Open In Colab\"/></a>"
      ]
    },
    {
      "cell_type": "code",
      "metadata": {
        "id": "etaKae5Ou1hX",
        "colab": {
          "base_uri": "https://localhost:8080/"
        },
        "outputId": "00dbccca-c0b2-4607-b355-54731a8900f5"
      },
      "source": [
        "class student:\n",
        "    def __init__(self,name,regno,age,gender,branch,sem):\n",
        "        self.name=name\n",
        "        self.regno=regno\n",
        "        self.age=age\n",
        "        self.gender=gender\n",
        "        self.branch=branch\n",
        "        self.sem=sem\n",
        "\n",
        "    def display(self):\n",
        "        print(\"Name is:\",self.name,\"\\nAge is:\",self.age,\"\\nReg no:\",self.regno,\"\\nBranch:\",self.branch,\"\\nSem:\",self.sem)\n",
        "\n",
        "class studentinfo(student):\n",
        "    def __init__(self,name_,regno_,age_,gender_,branch_,sem_):\n",
        "        student.__init__(self,name_,regno_,age_,gender_,branch_,sem_)\n",
        "        self.Totalmarks=465\n",
        "        self.Percentage=93\n",
        "        self.Grades=\"A-\"\n",
        "    def view(self):\n",
        "       student.display(self)\n",
        "       print(\"Totalmarks:\",self.Totalmarks,\"\\nPercentage:\",self.Percentage,\"\\nGrade:\",self.Grades)\n",
        "\n",
        "a=input(\"Enter name:\")\n",
        "b=int(input(\"Enter regno:\"))\n",
        "c=int(input(\"Enter age:\"))\n",
        "d=input(\"Enter Gender:\")\n",
        "i=input(\"Enter branch:\")\n",
        "f=int(input(\"Enter Sem:\"))\n",
        "\n",
        "studentdata=studentinfo(a,b,c,d,i,f)\n",
        "studentdata.view()\n",
        "\n",
        "\n",
        "\n",
        "\n",
        "\n"
      ],
      "execution_count": 1,
      "outputs": [
        {
          "output_type": "stream",
          "name": "stdout",
          "text": [
            "Enter name:Rahul\n",
            "Enter regno:201023456987\n",
            "Enter age:18\n",
            "Enter Gender:Male\n",
            "Enter branch:Cse\n",
            "Enter Sem:3\n",
            "Name is: Rahul \n",
            "Age is: 18 \n",
            "Reg no: 201023456987 \n",
            "Branch: Cse \n",
            "Sem: 3\n",
            "Totalmarks: 465 \n",
            "Percentage: 93 \n",
            "Grade: A-\n"
          ]
        }
      ]
    },
    {
      "cell_type": "code",
      "metadata": {
        "id": "0KVVHhJMz3wC",
        "colab": {
          "base_uri": "https://localhost:8080/"
        },
        "outputId": "52036de0-e158-4d31-bf3d-0df758449caf"
      },
      "source": [
        "class Pdf():\n",
        "    def __init__(self,creator,description,filesize):\n",
        "        self.creator=creator\n",
        "        self.description=description\n",
        "        self.filesize=filesize\n",
        "    def view(self):\n",
        "        print(\"The creator is:\",self.creator,\"\\nThe description is:\",self.description,\"\\nThe filesize is:\",self.filesize)\n",
        "    def compare(self):\n",
        "        if(self.filesize>80):\n",
        "            print(\"File too large\")\n",
        "class picture(Pdf):\n",
        "    def __init__(self,creator_,description_,filesize_,imagedimension):\n",
        "        Pdf.__init__(self,creator_,description_,filesize_)\n",
        "        self.imagedimension=imagedimension\n",
        "    def view(self):\n",
        "        Pdf.view(self)\n",
        "        print(\"Image Dimension is:\",self.imagedimension)\n",
        "    def check(self):\n",
        "        Pdf.compare(self)\n",
        "    def imagecheck(self):\n",
        "        if(self.imagedimension>35):\n",
        "            print(\"image too large\")\n",
        "a=input(\"Enter PDF creator name:\")\n",
        "b=input(\"Enter PDF description:\")\n",
        "c=int(input(\"Enter PDF filesize:\"))\n",
        "pdffile=Pdf(a,b,c)\n",
        "a=input(\"Enter Picture creator name:\")\n",
        "b=input(\"Enter picture description:\")\n",
        "c=int(input(\"Enter picture filesize:\"))\n",
        "d=int(input(\"Enter image dimension:\"))\n",
        "picturefile=picture(a,b,c,d)\n",
        "pdffile.view()\n",
        "pdffile.compare()\n",
        "picturefile.view()\n",
        "picturefile.compare()\n",
        "picturefile.imagecheck()\n",
        "\n",
        "\n",
        "\n",
        "\n"
      ],
      "execution_count": 3,
      "outputs": [
        {
          "output_type": "stream",
          "name": "stdout",
          "text": [
            "Enter PDF creator name:Rahul\n",
            "Enter PDF description:BasicsofOOP\n",
            "Enter PDF filesize:86\n",
            "Enter Picture creator name:Maxine\n",
            "Enter picture description:Sunset\n",
            "Enter picture filesize:72\n",
            "Enter image dimension:36\n",
            "The creator is: Rahul \n",
            "The description is: BasicsofOOP \n",
            "The filesize is: 86\n",
            "File too large\n",
            "The creator is: Maxine \n",
            "The description is: Sunset \n",
            "The filesize is: 72\n",
            "Image Dimension is: 36\n",
            "image too large\n"
          ]
        }
      ]
    },
    {
      "cell_type": "code",
      "metadata": {
        "id": "UZrZl0ISz9_1",
        "colab": {
          "base_uri": "https://localhost:8080/"
        },
        "outputId": "c983515a-3eaa-48c9-a827-44f79a6df266"
      },
      "source": [
        "class vehicle:\n",
        "    def __init__(self,name,mileage,capacity):\n",
        "        self.name=name\n",
        "        self.mileage=mileage\n",
        "        self.capacity=capacity\n",
        "    def fare(self):\n",
        "        return self.capacity*100\n",
        "class bus(vehicle):\n",
        "    def __init__(self,name_,mileage_,capacity_):\n",
        "        vehicle.__init__(self,name_,mileage_,capacity_)\n",
        "    def busfare(self):\n",
        "        print(\"Total bus fare is:\",vehicle.fare(self)+0.1*(vehicle.fare(self)))\n",
        "bus1=bus(\"mahindra\",84,50)\n",
        "bus1.busfare()\n",
        "\n"
      ],
      "execution_count": 4,
      "outputs": [
        {
          "output_type": "stream",
          "name": "stdout",
          "text": [
            "Total bus fare is: 5500.0\n"
          ]
        }
      ]
    }
  ]
}