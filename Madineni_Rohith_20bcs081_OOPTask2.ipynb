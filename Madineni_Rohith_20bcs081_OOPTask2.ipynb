{
  "nbformat": 4,
  "nbformat_minor": 0,
  "metadata": {
    "colab": {
      "name": "Madineni Rohith_20bcs081_OOPTask2",
      "provenance": [],
      "collapsed_sections": [],
      "authorship_tag": "ABX9TyOwrB/RTkK4xbl6ihhp61ha",
      "include_colab_link": true
    },
    "kernelspec": {
      "name": "python3",
      "display_name": "Python 3"
    },
    "language_info": {
      "name": "python"
    }
  },
  "cells": [
    {
      "cell_type": "markdown",
      "metadata": {
        "id": "view-in-github",
        "colab_type": "text"
      },
      "source": [
        "<a href=\"https://colab.research.google.com/github/Rohith2202/MadineniRohith_20bcs081_OOPTASK/blob/main/Madineni_Rohith_20bcs081_OOPTask2.ipynb\" target=\"_parent\"><img src=\"https://colab.research.google.com/assets/colab-badge.svg\" alt=\"Open In Colab\"/></a>"
      ]
    },
    {
      "cell_type": "code",
      "metadata": {
        "colab": {
          "base_uri": "https://localhost:8080/"
        },
        "id": "V2xmlI0EPG6-",
        "outputId": "314d8643-e911-4b08-a071-8b3c6dc68522"
      },
      "source": [
        "class circle():\n",
        "    def __init__(self,radius):\n",
        "        self.radius=radius\n",
        "    def area(self):\n",
        "        return self.radius**2*3.14\n",
        "    def perimeter(self):\n",
        "        return 2*self.radius*3.14\n",
        "\n",
        "circle2=circle(4)\n",
        "print(\"Area of circle is:\",circle2.area())\n",
        "print(\"Perimeter of circle is:\",circle2.perimeter())\n"
      ],
      "execution_count": 1,
      "outputs": [
        {
          "output_type": "stream",
          "name": "stdout",
          "text": [
            "Area of circle is: 50.24\n",
            "Perimeter of circle is: 25.12\n"
          ]
        }
      ]
    },
    {
      "cell_type": "code",
      "metadata": {
        "id": "k-o_9AFPpbk-",
        "colab": {
          "base_uri": "https://localhost:8080/"
        },
        "outputId": "b3f56548-e1f3-47f2-9bc9-7278a171779a"
      },
      "source": [
        "class data():\n",
        "    def __init__(self,name,empid,branch,salary):\n",
        "        self.name=name\n",
        "        self.empid=empid\n",
        "        self.branch=branch\n",
        "        self.salary=salary\n",
        "    def display(self):\n",
        "        return self.name,self.empid,self.branch,self.salary\n",
        "i=[]\n",
        "b=[]\n",
        "c=[]\n",
        "d=[]\n",
        "k=[]\n",
        "for a in range(0,5):\n",
        "    o=input(\"Enter name:\")\n",
        "    i.append(o)\n",
        "    o=int(input(\"Enter employee id:\"))\n",
        "    b.append(o)\n",
        "    o=input(\"Enter branch:\")\n",
        "    c.append(o)\n",
        "    o=int(input(\"Enter salary:\"))\n",
        "    d.append(o)\n",
        "    o=data(i[a],b[a],c[a],d[a])\n",
        "    k.append(o)\n",
        "\n",
        "for a in range(0,5):\n",
        "    print(k[a].display())"
      ],
      "execution_count": 4,
      "outputs": [
        {
          "output_type": "stream",
          "name": "stdout",
          "text": [
            "Enter name:Maxine\n",
            "Enter employee id:78965413\n",
            "Enter branch:JPnagar\n",
            "Enter salary:78965\n",
            "Enter name:Ram\n",
            "Enter employee id:74123654\n",
            "Enter branch:Bangalore\n",
            "Enter salary:78965143\n",
            "Enter name:Christopher\n",
            "Enter employee id:79861326\n",
            "Enter branch:Hyderabad\n",
            "Enter salary:120300\n",
            "Enter name:Georgia\n",
            "Enter employee id:78946535\n",
            "Enter branch:Bangalore\n",
            "Enter salary:784513236\n",
            "Enter name:Ginny\n",
            "Enter employee id:7896846\n",
            "Enter branch:Pune\n",
            "Enter salary:7456321\n",
            "('Maxine', 78965413, 'JPnagar', 78965)\n",
            "('Ram', 74123654, 'Bangalore', 78965143)\n",
            "('Christopher', 79861326, 'Hyderabad', 120300)\n",
            "('Georgia', 78946535, 'Bangalore', 784513236)\n",
            "('Ginny', 7896846, 'Pune', 7456321)\n"
          ]
        }
      ]
    },
    {
      "cell_type": "code",
      "metadata": {
        "id": "E9ss8TF-r5H2",
        "colab": {
          "base_uri": "https://localhost:8080/"
        },
        "outputId": "2f4074fa-3072-4998-fd56-b5cbdfdd1a1e"
      },
      "source": [
        "class bank():\n",
        "    def __init__(self):\n",
        "        self.name=\"Maxine\"\n",
        "        self.accountnumber=1234654897\n",
        "        self.amount=78000\n",
        "    def deposit(self):\n",
        "        amount=int(input(\"Enter amount to be deposited:\"))\n",
        "        self.amount=self.amount+amount\n",
        "        print(\"Amount deposited\")\n",
        "    def withdraw(self):\n",
        "        amount=int(input(\"Enter money to be withdrawn:\"))\n",
        "        if(self.amount>=amount):\n",
        "            self.amount=self.amount-amount\n",
        "        else:\n",
        "            print(\"Insufficient Balance\")\n",
        "    def display(self):\n",
        "        return self.name,self.accountnumber,self.amount\n",
        "\n",
        "account=bank()\n",
        "account.deposit()\n",
        "account.withdraw()\n",
        "account.display()\n"
      ],
      "execution_count": 6,
      "outputs": [
        {
          "name": "stdout",
          "output_type": "stream",
          "text": [
            "Enter amount to be deposited:25000\n",
            "Amount deposited\n",
            "Enter money to be withdrawn:40000\n"
          ]
        },
        {
          "output_type": "execute_result",
          "data": {
            "text/plain": [
              "('Maxine', 1234654897, 63000)"
            ]
          },
          "metadata": {},
          "execution_count": 6
        }
      ]
    },
    {
      "cell_type": "code",
      "metadata": {
        "id": "1fexBPG-ul1x",
        "colab": {
          "base_uri": "https://localhost:8080/"
        },
        "outputId": "8b7e9aaf-8ee4-43f5-cec7-bee1677c2d49"
      },
      "source": [
        "class studentdetails():\n",
        "    def __init__(self,name,usn,subject1,subject2,subject3):\n",
        "        self.name=name\n",
        "        self.usn=usn\n",
        "        self.subject1=subject1\n",
        "        self.subject2=subject2\n",
        "        self.subject3=subject3\n",
        "    def display(self):\n",
        "        return self.name,self.usn,self.subject1,self.subject2,self.subject3\n",
        "i=[]\n",
        "name=input(\"Enter name:\")\n",
        "USN=int(input(\"Enter usn id:\"))\n",
        "for a in range(0,3):\n",
        "    o=int(input(\"Enter marks in subject:\"))\n",
        "    i.append(o)\n",
        "subject1=i[0]\n",
        "subject2=i[1]\n",
        "subject3=i[2]\n",
        "\n",
        "sd=studentdetails(name,USN,subject1,subject2,subject3)\n",
        "print(sd.display())\n"
      ],
      "execution_count": 8,
      "outputs": [
        {
          "output_type": "stream",
          "name": "stdout",
          "text": [
            "Enter name:Ginny\n",
            "Enter usn id:7896541\n",
            "Enter marks in subject:96\n",
            "Enter marks in subject:85\n",
            "Enter marks in subject:94\n",
            "('Ginny', 7896541, 96, 85, 94)\n"
          ]
        }
      ]
    },
    {
      "cell_type": "code",
      "metadata": {
        "id": "V8UMFKcIVSSA",
        "colab": {
          "base_uri": "https://localhost:8080/"
        },
        "outputId": "90c6ea3f-36ec-4653-efe3-bf1875b4cf6d"
      },
      "source": [
        "class hospital():\n",
        "    def __init__(self,name,dateofadmission,symptoms,oxygenlevel,dateofdischarge):\n",
        "        self.name=name\n",
        "        self.dateofadmission=dateofadmission\n",
        "        self.symptoms=symptoms\n",
        "        self.oxygenlevel=oxygenlevel\n",
        "        self.dateofdischarge=dateofdischarge\n",
        "\n",
        "    def severity(self):\n",
        "        j=1\n",
        "        if(l<90):\n",
        "            print(\"Patient on oxygen support\")\n",
        "            j+=1\n",
        "        print(j,\"Patients are on oxygen support\")\n",
        "        print(\"There are \",j,\"patients in the hospital\")\n",
        "\n",
        "    def display(self):\n",
        "        return self.name,self.dateofadmission,self.symptoms,self.oxygenlevel,self.dateofdischarge\n",
        "\n",
        "i=[]\n",
        "j=[]\n",
        "k=[]\n",
        "m=[]\n",
        "n=int(input(\"Enter number of patients:\"))\n",
        "for a in range(0,n):\n",
        "    o=input(\"Enter name:\")\n",
        "    i.append(o)\n",
        "for a in range(0,n):\n",
        "    o=int(input(\"Enter date of admission:\"))\n",
        "    j.append(o)\n",
        "n=int(input(\"Enter number of symptoms:\"))\n",
        "for a in range(0,n):\n",
        "    o=input(\"Enter symptoms:\")\n",
        "    k.append(o)\n",
        "l=int(input(\"Enter oxygen level:\"))\n",
        "o=int(input(\"Enter date of discharge:\"))\n",
        "m.append(o)\n",
        "hospitaldata=hospital(i,j,k,l,m)\n",
        "hospitaldata.severity()\n",
        "print(hospitaldata.display())\n",
        "\n",
        "\n"
      ],
      "execution_count": 9,
      "outputs": [
        {
          "output_type": "stream",
          "name": "stdout",
          "text": [
            "Enter number of patients:5\n",
            "Enter name:Maxine\n",
            "Enter name:Ram\n",
            "Enter name:Christopher\n",
            "Enter name:Annie\n",
            "Enter name:Eren\n",
            "Enter date of admission:1242003\n",
            "Enter date of admission:1892020\n",
            "Enter date of admission:1652020\n",
            "Enter date of admission:1732020\n",
            "Enter date of admission:1922020\n",
            "Enter number of symptoms:3\n",
            "Enter symptoms:Fever\n",
            "Enter symptoms:Cold\n",
            "Enter symptoms:Headache\n",
            "Enter oxygen level:74\n",
            "Enter date of discharge:1922020\n",
            "Patient on oxygen support\n",
            "2 Patients are on oxygen support\n",
            "There are  2 patients in the hospital\n",
            "(['Maxine', 'Ram', 'Christopher', 'Annie', 'Eren'], [1242003, 1892020, 1652020, 1732020, 1922020], ['Fever', 'Cold', 'Headache'], 74, [1922020])\n"
          ]
        }
      ]
    },
    {
      "cell_type": "code",
      "metadata": {
        "id": "ON1TWHw2VSp1",
        "colab": {
          "base_uri": "https://localhost:8080/"
        },
        "outputId": "d500464f-a948-4a38-bdae-5f128423f84e"
      },
      "source": [
        "class Time():\n",
        "    def __init__(self):\n",
        "        self.hours=0\n",
        "        self.minutes=0\n",
        "        self.seconds=0\n",
        "    def increment(self):\n",
        "        self.seconds=self.seconds+60\n",
        "        if(self.seconds%60==0):\n",
        "            self.minutes=self.minutes+1\n",
        "        if(self.minutes%60==0):\n",
        "            self.hours=self.hours+1\n",
        "    def display(self):\n",
        "        print(self.hours,\":\",self.minutes,\":\",self.seconds)\n",
        "timedata=Time()\n",
        "n=int(input(\"Enter wait time:\"))\n",
        "i=0\n",
        "while(i<n):\n",
        "    timedata.increment()\n",
        "    i+=1\n",
        "timedata.display()"
      ],
      "execution_count": 11,
      "outputs": [
        {
          "output_type": "stream",
          "name": "stdout",
          "text": [
            "Enter wait time:78\n",
            "1 : 78 : 4680\n"
          ]
        }
      ]
    },
    {
      "cell_type": "code",
      "metadata": {
        "id": "0fzZ1vT0VS1v",
        "colab": {
          "base_uri": "https://localhost:8080/"
        },
        "outputId": "ab38c453-eece-423d-d3c7-87285cb45f81"
      },
      "source": [
        "class studentdetails():\n",
        "    def __init__(self,name,age,rollno):\n",
        "        self.name=name\n",
        "        self.age=age\n",
        "        self.rollno=rollno\n",
        "    def compare(self):\n",
        "        if(student1.age==student2.age):\n",
        "            print(\"They are of the same age\")\n",
        "        else:\n",
        "            print(\"They are not the same age\")\n",
        "\n",
        "\n",
        "student1=studentdetails(\"Rahul\",21,33)\n",
        "student2=studentdetails(\"Rohit\",22,74)\n",
        "student1.compare()\n"
      ],
      "execution_count": 12,
      "outputs": [
        {
          "output_type": "stream",
          "name": "stdout",
          "text": [
            "They are not the same age\n"
          ]
        }
      ]
    },
    {
      "cell_type": "code",
      "metadata": {
        "id": "6bp-BhVZVTD_",
        "colab": {
          "base_uri": "https://localhost:8080/"
        },
        "outputId": "c8e39507-b7e5-496e-f588-a70b05b45d15"
      },
      "source": [
        "class studentdetails():\n",
        "    sem=3\n",
        "    institute=\"iiitdwd\"\n",
        "    def __init__(self,name,usn):\n",
        "        self.name=name\n",
        "        self.usn=usn\n",
        "\n",
        "    @classmethod\n",
        "    def displaydetails(cls):\n",
        "        return cls.sem,cls.institute\n",
        "\n",
        "    @staticmethod\n",
        "    def show():\n",
        "        return \"This is a class of student details,printed using static method\"\n",
        "\n",
        "    def display(self):\n",
        "        return self.name,self.usn\n",
        "\n",
        "a=input(\"Enter name:\")\n",
        "b=int(input(\"Enter USN:\"))\n",
        "student=studentdetails(a,b)\n",
        "print(student.displaydetails())\n",
        "print(student.display())\n",
        "print(student.show())"
      ],
      "execution_count": 13,
      "outputs": [
        {
          "output_type": "stream",
          "name": "stdout",
          "text": [
            "Enter name:Maxine\n",
            "Enter USN:12365478\n",
            "(3, 'iiitdwd')\n",
            "('Maxine', 12365478)\n",
            "This is a class of student details,printed using static method\n"
          ]
        }
      ]
    },
    {
      "cell_type": "code",
      "metadata": {
        "id": "iJEywwkCVTMQ",
        "colab": {
          "base_uri": "https://localhost:8080/"
        },
        "outputId": "034529b7-8b2a-41d3-84de-21a26503cc26"
      },
      "source": [
        "class student():\n",
        "    def __init__(self,name,rollno,sem):\n",
        "        self.name=name\n",
        "        self.rollno=rollno\n",
        "        self.sem=sem\n",
        "    def display(self):\n",
        "        return self.name,self.rollno,self.sem\n",
        "    class laptop():\n",
        "        def __init__(self,cpu,ram,harddisk,displaydetails,os,manufacturer):\n",
        "            self.cpu=cpu\n",
        "            self.ram=ram\n",
        "            self.harddisk=harddisk\n",
        "            self.displaydetails=displaydetails\n",
        "            self.os=os\n",
        "            self.manufacturer=manufacturer\n",
        "        def show(self):\n",
        "            return self.cpu,self.ram,self.harddisk,self.displaydetails,self.os,self.manufacturer\n",
        "a=input(\"Enter name:\")\n",
        "b=int(input(\"Enter roll number:\"))\n",
        "c=int(input(\"Enter sem:\"))\n",
        "studentdetails=student(a,b,c)\n",
        "a=input(\"Enter processor name:\")\n",
        "b=int(input(\"Enter RAM space:\"))\n",
        "c=int(input(\"Enter storage space:\"))\n",
        "d=int(input(\"Enter display size:\"))\n",
        "g=input(\"Enter OS details:\")\n",
        "i=input(\"Enter manufacturer:\")\n",
        "laptopdetails=studentdetails.laptop(a,b,c,d,g,i)\n",
        "print(studentdetails.display())\n",
        "print(laptopdetails.show())\n"
      ],
      "execution_count": 14,
      "outputs": [
        {
          "output_type": "stream",
          "name": "stdout",
          "text": [
            "Enter name:Maxine\n",
            "Enter roll number:25\n",
            "Enter sem:3\n",
            "Enter processor name:Inteli3\n",
            "Enter RAM space:8\n",
            "Enter storage space:256\n",
            "Enter display size:13\n",
            "Enter OS details:Windows10\n",
            "Enter manufacturer:Hp\n",
            "('Maxine', 25, 3)\n",
            "('Inteli3', 8, 256, 13, 'Windows10', 'Hp')\n"
          ]
        }
      ]
    }
  ]
}