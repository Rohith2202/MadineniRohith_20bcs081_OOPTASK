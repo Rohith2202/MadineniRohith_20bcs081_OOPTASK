{
  "nbformat": 4,
  "nbformat_minor": 0,
  "metadata": {
    "colab": {
      "name": "MadineniRohith_20bcs081_OOPTask4",
      "provenance": [],
      "collapsed_sections": [],
      "authorship_tag": "ABX9TyOQsARaavZwQt8sinxwuzum",
      "include_colab_link": true
    },
    "kernelspec": {
      "name": "python3",
      "display_name": "Python 3"
    },
    "language_info": {
      "name": "python"
    }
  },
  "cells": [
    {
      "cell_type": "markdown",
      "metadata": {
        "id": "view-in-github",
        "colab_type": "text"
      },
      "source": [
        "<a href=\"https://colab.research.google.com/github/Rohith2202/MadineniRohith_20bcs081_OOPTASK/blob/main/MadineniRohith_20bcs081_OOPTask4.ipynb\" target=\"_parent\"><img src=\"https://colab.research.google.com/assets/colab-badge.svg\" alt=\"Open In Colab\"/></a>"
      ]
    },
    {
      "cell_type": "code",
      "metadata": {
        "id": "vlT_uGkMmpDP",
        "colab": {
          "base_uri": "https://localhost:8080/"
        },
        "outputId": "6889b52e-6d0f-4a75-899b-c0b7cdcdaeb7"
      },
      "source": [
        "class Node():\n",
        "    def __init__(self,size):\n",
        "        self.data=[]\n",
        "        self.size=size\n",
        "        self.address=[]\n",
        "class Stack(Node):\n",
        "    def __init__(self,length,value):\n",
        "        Node.__init__(self,length)\n",
        "        self.value=value\n",
        "        self.length=length\n",
        "    def push(self,value):\n",
        "        location=id(self.value)\n",
        "        self.address.append(location)\n",
        "        self.data.append(value)\n",
        "    def pop(self):\n",
        "        self.data.pop()\n",
        "        self.address.pop()\n",
        "        return self.data\n",
        "    def isempty(self):\n",
        "        if(self.data==[]):\n",
        "            print(\"Stack is empty\")\n",
        "        else:\n",
        "            print(\"Stack is not empty\")\n",
        "    def isfull(self):\n",
        "        if(self.data==self.length):\n",
        "            print(\"Stack Full\")\n",
        "        else:\n",
        "            print(\"Stack is not full\")\n",
        "\n",
        "    def display(self):\n",
        "        print(self.data)\n",
        "    def displayaddress(self):\n",
        "        print(self.address)\n",
        "    def __del__(self):\n",
        "        print(\"Stack object deleted successgully\")\n",
        "\n",
        "Stack1=Stack(14,25)\n",
        "Stack1.push(15)\n",
        "Stack1.push(98)\n",
        "Stack1.push(24)\n",
        "Stack1.push(76)\n",
        "Stack1.display()\n",
        "Stack1.pop()\n",
        "Stack1.display()\n",
        "Stack1.push(79)\n",
        "Stack1.isfull()\n",
        "Stack1.isempty()\n",
        "print(\"The address of the elements of the stack:\")\n",
        "Stack1.displayaddress()\n",
        "del Stack1\n"
      ],
      "execution_count": 1,
      "outputs": [
        {
          "output_type": "stream",
          "name": "stdout",
          "text": [
            "[15, 98, 24, 76]\n",
            "[15, 98, 24]\n",
            "Stack is not full\n",
            "Stack is not empty\n",
            "The address of the elements of the stack:\n",
            "[94222602362112, 94222602362112, 94222602362112, 94222602362112]\n",
            "Stack object deleted successgully\n"
          ]
        }
      ]
    },
    {
      "cell_type": "code",
      "metadata": {
        "id": "afERVTHgmzB3",
        "colab": {
          "base_uri": "https://localhost:8080/"
        },
        "outputId": "a72434c1-736b-477d-8385-6547d57b1e97"
      },
      "source": [
        "class Area():\n",
        "    length=30 #Length is default constructor\n",
        "    def __init__(self,breadth):\n",
        "        self.breadth=breadth #Breadth is parametrized constructor\n",
        "    def RectangleArea(self):\n",
        "        return self.length*self.breadth\n",
        "Rectangle=Area(24)\n",
        "print(\"The area of the rectangle is:\",Rectangle.RectangleArea())\n"
      ],
      "execution_count": 4,
      "outputs": [
        {
          "output_type": "stream",
          "name": "stdout",
          "text": [
            "The area of the rectangle is: 720\n"
          ]
        }
      ]
    },
    {
      "cell_type": "code",
      "metadata": {
        "id": "uO-lL8MnmzMq",
        "colab": {
          "base_uri": "https://localhost:8080/"
        },
        "outputId": "f1353a41-3877-4c30-a98e-82285c6f44e2"
      },
      "source": [
        "class Queue():\n",
        "    def __init__(self,size):\n",
        "        self.queue=[]\n",
        "        self.size=size\n",
        "    def enqueue(self,data):\n",
        "        self.queue.insert(0,data)\n",
        "    def dequeue(self):\n",
        "        return self.queue.pop()\n",
        "    def isempty(self):\n",
        "        if(self.queue==[]):\n",
        "            print(\"Queue is empty\")\n",
        "        else:\n",
        "            print(\"Queue is not empty\")\n",
        "    def isfull(self):\n",
        "        if(len(self.queue)==self.size):\n",
        "            print(\"Queue is full\")\n",
        "        else:\n",
        "            print(\"Queue is not full\")\n",
        "    def display(self):\n",
        "        print(self.queue)\n",
        "    def __del__(self):\n",
        "        print(\"Queue Object Deleted successfully\")\n",
        "\n",
        "Queue1=Queue(10)\n",
        "Queue1.enqueue(3)\n",
        "Queue1.enqueue(5)\n",
        "Queue1.enqueue(6)\n",
        "Queue1.display()\n",
        "Queue1.enqueue(41)\n",
        "Queue1.enqueue(85)\n",
        "Queue1.dequeue()\n",
        "Queue1.display()\n",
        "Queue1.isfull()\n",
        "Queue1.isempty()\n",
        "del Queue1\n"
      ],
      "execution_count": 5,
      "outputs": [
        {
          "output_type": "stream",
          "name": "stdout",
          "text": [
            "[6, 5, 3]\n",
            "[85, 41, 6, 5]\n",
            "Queue is not full\n",
            "Queue is not empty\n",
            "Queue Object Deleted successfully\n"
          ]
        }
      ]
    }
  ]
}