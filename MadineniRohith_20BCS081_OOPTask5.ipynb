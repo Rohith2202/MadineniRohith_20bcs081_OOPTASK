{
  "nbformat": 4,
  "nbformat_minor": 0,
  "metadata": {
    "colab": {
      "name": "MadineniRohith_20BCS081_OOPTask5",
      "provenance": [],
      "collapsed_sections": [],
      "authorship_tag": "ABX9TyOXPPYq/JfAG2lWsvl8vvGc",
      "include_colab_link": true
    },
    "kernelspec": {
      "name": "python3",
      "display_name": "Python 3"
    },
    "language_info": {
      "name": "python"
    }
  },
  "cells": [
    {
      "cell_type": "markdown",
      "metadata": {
        "id": "view-in-github",
        "colab_type": "text"
      },
      "source": [
        "<a href=\"https://colab.research.google.com/github/Rohith2202/MadineniRohith_20bcs081_OOPTASK/blob/main/MadineniRohith_20BCS081_OOPTask5.ipynb\" target=\"_parent\"><img src=\"https://colab.research.google.com/assets/colab-badge.svg\" alt=\"Open In Colab\"/></a>"
      ]
    },
    {
      "cell_type": "code",
      "metadata": {
        "colab": {
          "base_uri": "https://localhost:8080/"
        },
        "id": "hp4CIaUmG463",
        "outputId": "5babe33c-9ce9-4667-f300-7ce07d0f3063"
      },
      "source": [
        "class Shape:\n",
        "    def __init__(self,shape):\n",
        "        self.shape=shape\n",
        "    def area(self):\n",
        "        pass\n",
        "class Circle(Shape):\n",
        "    def __init__(self,radius):\n",
        "        self.radius=radius\n",
        "        super().__init__(\"Circle\")\n",
        "    def area(self):\n",
        "         print(\"The area of\",self.shape,\"is\",self.radius*self.radius*3.14)\n",
        "class Square(Shape):\n",
        "    def __init__(self,length):\n",
        "        self.length=length\n",
        "        super().__init__(\"Square\")\n",
        "    def area(self):\n",
        "        print(\"The area of\",self.shape,\"is\",self.length*self.length)\n",
        "class Rectangle(Shape):\n",
        "    def __init__(self,length,breadth):\n",
        "        self.length=length\n",
        "        self.breadth=breadth\n",
        "        super().__init__(\"Rectangle\")\n",
        "    def area(self):\n",
        "        print(\"The area of\", self.shape, \"is\", self.breadth * self.length)\n",
        "\n",
        "Shape1=Circle(10)\n",
        "Shape2=Square(12)\n",
        "Shape3=Rectangle(16,24)\n",
        "Shape1.area()\n",
        "Shape2.area()\n",
        "Shape3.area()\n",
        "\n",
        "\n"
      ],
      "execution_count": 1,
      "outputs": [
        {
          "output_type": "stream",
          "name": "stdout",
          "text": [
            "The area of Circle is 314.0\n",
            "The area of Square is 144\n",
            "The area of Rectangle is 384\n"
          ]
        }
      ]
    },
    {
      "cell_type": "code",
      "metadata": {
        "colab": {
          "base_uri": "https://localhost:8080/"
        },
        "id": "KqBwFDtfG-6c",
        "outputId": "48182785-454b-4707-fdaf-5bbbb1959e01"
      },
      "source": [
        "class Travel():\n",
        "    def __init__(self,__passengers,mode,distance):\n",
        "        self.__passengers=__passengers\n",
        "        self.mode=mode\n",
        "        self.distance=distance\n",
        "    def fare(self):\n",
        "        pass\n",
        "class Train(Travel):\n",
        "    def __init__(self,passengers):\n",
        "        self.passengers=passengers\n",
        "        self.mode=\"Train\"\n",
        "        super().__init__(self.passengers,self.mode,100)\n",
        "    def fare(self):\n",
        "        print(\"Total fare in train is:\",self.passengers*60)\n",
        "class Bus(Travel):\n",
        "    def __init__(self,passengers):\n",
        "        self.passengers=passengers\n",
        "        self.mode=\"Bus\"\n",
        "        super().__init__(self.passengers,self.mode,100)\n",
        "    def fare(self):\n",
        "        print(\"Total fare in bus is:\",self.passengers*100)\n",
        "\n",
        "Travelling=Train(6)\n",
        "Travelling.fare()\n",
        "Travelling=Bus(6)\n",
        "Travelling.fare()\n"
      ],
      "execution_count": 3,
      "outputs": [
        {
          "output_type": "stream",
          "name": "stdout",
          "text": [
            "Total fare in train is: 360\n",
            "Total fare in bus is: 600\n"
          ]
        }
      ]
    },
    {
      "cell_type": "code",
      "metadata": {
        "colab": {
          "base_uri": "https://localhost:8080/"
        },
        "id": "poimZqmRG_Cm",
        "outputId": "5dcbe7b9-636f-408d-cdfe-9ee7b31c8bf9"
      },
      "source": [
        "class Car():\n",
        "    def __init__(self,modelnumber):\n",
        "        self.modelnumber=modelnumber\n",
        "    def store(self):\n",
        "        global a\n",
        "        a=self.modelnumber\n",
        "    def data(self):\n",
        "        global b\n",
        "        b=self.modelnumber\n",
        "    def swap(self):\n",
        "        self.modelnumber=b\n",
        "        print(\"Model number of C1 is:\",self.modelnumber)\n",
        "        self.modelnumber=a\n",
        "        print(\"Model number of c2 is:\",self.modelnumber)\n",
        "\n",
        "\n",
        "i=input(\"Enter model number of c1:\")\n",
        "C1=Car(i)\n",
        "C1.store()\n",
        "j=input(\"Enter model number of c2:\")\n",
        "C2=Car(j)\n",
        "C2.data()\n",
        "C2.swap()\n"
      ],
      "execution_count": 2,
      "outputs": [
        {
          "output_type": "stream",
          "name": "stdout",
          "text": [
            "Enter model number of c1:KJH78954\n",
            "Enter model number of c2:JHN94517\n",
            "Model number of C1 is: JHN94517\n",
            "Model number of c2 is: KJH78954\n"
          ]
        }
      ]
    }
  ]
}