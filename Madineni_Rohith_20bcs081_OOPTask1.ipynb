{
  "nbformat": 4,
  "nbformat_minor": 0,
  "metadata": {
    "colab": {
      "name": "Madineni Rohith_20bcs081_OOPTask1",
      "provenance": [],
      "collapsed_sections": [],
      "authorship_tag": "ABX9TyM9hXIeeIBkX1CXE+AeFLAj",
      "include_colab_link": true
    },
    "kernelspec": {
      "name": "python3",
      "display_name": "Python 3"
    },
    "language_info": {
      "name": "python"
    }
  },
  "cells": [
    {
      "cell_type": "markdown",
      "metadata": {
        "id": "view-in-github",
        "colab_type": "text"
      },
      "source": [
        "<a href=\"https://colab.research.google.com/github/Rohith2202/MadineniRohith_20bcs081_OOPTASK/blob/main/Madineni_Rohith_20bcs081_OOPTask1.ipynb\" target=\"_parent\"><img src=\"https://colab.research.google.com/assets/colab-badge.svg\" alt=\"Open In Colab\"/></a>"
      ]
    },
    {
      "cell_type": "code",
      "metadata": {
        "id": "--mmY_T2If5J",
        "colab": {
          "base_uri": "https://localhost:8080/"
        },
        "outputId": "10f9f0a6-c00e-4332-b46a-58a8f5902f35"
      },
      "source": [
        "def leapyear(a):\n",
        "    if(a%4==0):\n",
        "        if(a%100==0):\n",
        "            if(a%400==0):\n",
        "                return True\n",
        "        else:\n",
        "            return True\n",
        "    else:\n",
        "        return False\n",
        "\n",
        "a=int(input(\"Enter Year:\"))\n",
        "leapyear(a)"
      ],
      "execution_count": null,
      "outputs": [
        {
          "name": "stdout",
          "output_type": "stream",
          "text": [
            "Enter Year2000\n"
          ]
        },
        {
          "output_type": "execute_result",
          "data": {
            "text/plain": [
              "True"
            ]
          },
          "metadata": {},
          "execution_count": 2
        }
      ]
    },
    {
      "cell_type": "code",
      "metadata": {
        "colab": {
          "base_uri": "https://localhost:8080/"
        },
        "id": "5utRaCEtWwI6",
        "outputId": "88418b90-1901-4b85-897c-8503d79c1953"
      },
      "source": [
        "def number(n):\n",
        "    if(n%2!=0):\n",
        "        print(\"Weird\")\n",
        "    if(n%2==0):\n",
        "        if(n>=2 and n<=5):\n",
        "            print(\"Not weird\")\n",
        "        if(n>=6 and n<=20):\n",
        "            print(\"Weird\")\n",
        "        if(n>20):\n",
        "            print(\"Not weird\")\n",
        "n=int(input(\"Enter Number:\"))\n",
        "number(n)"
      ],
      "execution_count": null,
      "outputs": [
        {
          "output_type": "stream",
          "name": "stdout",
          "text": [
            "Enter Number:6\n",
            "Weird\n"
          ]
        }
      ]
    },
    {
      "cell_type": "code",
      "metadata": {
        "id": "Ra6M5xSvYZ9e",
        "colab": {
          "base_uri": "https://localhost:8080/"
        },
        "outputId": "03cec250-03cc-40c3-c4a1-2eac7b9b57a1"
      },
      "source": [
        "def attendees():\n",
        "    a=[]\n",
        "    c=int(input(\"How many Attendees:\"))\n",
        "    for i in range(0,c):\n",
        "        b=input(\"Enter name:\")\n",
        "        a.append(b)\n",
        "    d=input(\"Enter name to search\")\n",
        "    h=len(a)\n",
        "    n=h/2\n",
        "    for i in range(0,c):\n",
        "        if(d==a[i]):\n",
        "            if(i!=c):\n",
        "                if(i>n):\n",
        "                    print(\"Fashionably late\")\n",
        "            else:\n",
        "                print(\"Very Late, Last Guest\")\n",
        "attendees()\n",
        "\n"
      ],
      "execution_count": null,
      "outputs": [
        {
          "output_type": "stream",
          "name": "stdout",
          "text": [
            "How many Attendees:6\n",
            "Enter name:Maxine\n",
            "Enter name:Marcus\n",
            "Enter name:Annie\n",
            "Enter name:Ginny\n",
            "Enter name:Stephen\n",
            "Enter name:Damon\n",
            "Enter name to searchStephen\n",
            "Fashionably late\n"
          ]
        }
      ]
    },
    {
      "cell_type": "code",
      "metadata": {
        "id": "XMExUcy9Kkrx",
        "colab": {
          "base_uri": "https://localhost:8080/"
        },
        "outputId": "9f4ff079-c284-413e-8e7a-ce8a78787ef0"
      },
      "source": [
        "def search(doc_list,w):\n",
        "    w = w.lower().strip('.,')\n",
        "    list2 = []\n",
        "    for i, j in enumerate(doc_list):\n",
        "        k = j.lower().strip('.,').split()\n",
        "        if w in k:\n",
        "            list2.append((i, j))\n",
        "    return list2\n",
        "\n",
        "\n",
        "doc_list = ['The Learn Python Challenge Rohit','They bought a car','Bangalore']\n",
        "w = 'Rohit'\n",
        "print(search(doc_list, w))"
      ],
      "execution_count": null,
      "outputs": [
        {
          "output_type": "stream",
          "name": "stdout",
          "text": [
            "[(0, 'The Learn Python Challenge Rohit')]\n"
          ]
        }
      ]
    },
    {
      "cell_type": "code",
      "metadata": {
        "colab": {
          "base_uri": "https://localhost:8080/"
        },
        "id": "FLbPnVo8KmKA",
        "outputId": "068eccd7-20be-49a1-c465-9a240291daeb"
      },
      "source": [
        "def GP(BP):\n",
        "    DA=(40/100)*BP\n",
        "    HRA=(20/100)*BP\n",
        "    GP=DA+HRA+BP\n",
        "    print(\"The gross pay is \",GP)\n",
        "\n",
        "BP=int(input(\"Enter Employee's Basic pay:\"))\n",
        "GP(BP)\n"
      ],
      "execution_count": null,
      "outputs": [
        {
          "output_type": "stream",
          "name": "stdout",
          "text": [
            "Enter Employee's Basic pay:25000\n",
            "The gross pay is  40000.0\n"
          ]
        }
      ]
    }
  ]
}